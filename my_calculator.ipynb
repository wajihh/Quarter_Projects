{
  "nbformat": 4,
  "nbformat_minor": 0,
  "metadata": {
    "colab": {
      "provenance": [],
      "gpuType": "T4",
      "authorship_tag": "ABX9TyOtsm34bgbBOEcXJKS+byWy",
      "include_colab_link": true
    },
    "kernelspec": {
      "name": "python3",
      "display_name": "Python 3"
    },
    "language_info": {
      "name": "python"
    },
    "accelerator": "GPU"
  },
  "cells": [
    {
      "cell_type": "markdown",
      "metadata": {
        "id": "view-in-github",
        "colab_type": "text"
      },
      "source": [
        "<a href=\"https://colab.research.google.com/github/wajihh/Quarter_Projects/blob/main/my_calculator.ipynb\" target=\"_parent\"><img src=\"https://colab.research.google.com/assets/colab-badge.svg\" alt=\"Open In Colab\"/></a>"
      ]
    },
    {
      "cell_type": "markdown",
      "source": [
        "# Simple Calculator\n",
        "[python] To use the calculator interactively in Google Colab, you need to ensure that it can take user inputs correctly. Google Colab might not handle interactive `input()` calls as expected. Instead, let's create a version of the calculator that works in Google Colab by simulating inputs.\n",
        "\n",
        "Here's an updated version of the code that allows you to simulate the operations:\n",
        "\n",
        "```python\n",
        "def add(x, y):\n",
        "    return x + y\n",
        "\n",
        "def subtract(x, y):\n",
        "    return x - y\n",
        "\n",
        "def multiply(x, y):\n",
        "    return x * y\n",
        "\n",
        "def divide(x, y):\n",
        "    if y == 0:\n",
        "        return \"Error! Division by zero.\"\n",
        "    return x / y\n",
        "\n",
        "def calculator(choice, num1, num2):\n",
        "    if choice == '1':\n",
        "        return f\"{num1} + {num2} = {add(num1, num2)}\"\n",
        "    elif choice == '2':\n",
        "        return f\"{num1} - {num2} = {subtract(num1, num2)}\"\n",
        "    elif choice == '3':\n",
        "        return f\"{num1} * {num2} = {multiply(num1, num2)}\"\n",
        "    elif choice == '4':\n",
        "        return f\"{num1} / {num2} = {divide(num1, num2)}\"\n",
        "    else:\n",
        "        return \"Invalid Input\"\n",
        "\n",
        "# Simulate a calculation\n",
        "print(calculator('1', 5, 3))  # Add\n",
        "print(calculator('2', 5, 3))  # Subtract\n",
        "print(calculator('3', 5, 3))  # Multiply\n",
        "print(calculator('4', 5, 3))  # Divide\n",
        "print(calculator('4', 5, 0))  # Divide by zero\n",
        "```\n",
        "\n",
        "### Explanation:\n",
        "\n",
        "1. **Function Definitions**:\n",
        "   - `add(x, y)`, `subtract(x, y)`, `multiply(x, y)`, and `divide(x, y)` functions remain the same.\n",
        "\n",
        "2. **Modified Calculator Function**:\n",
        "   - `calculator(choice, num1, num2)`: This function now takes parameters directly instead of using `input()`, making it easier to test in a non-interactive environment like Google Colab.\n",
        "   \n",
        "3. **Simulation of Operations**:\n",
        "   - Instead of interactive input, we simulate the calculations by directly passing the choice and numbers to the `calculator` function and print the results.\n",
        "\n",
        "You can run this updated code in Google Colab, and it should work correctly. If you want to use it interactively, you can run it in a local Python environment where `input()` works as expected."
      ],
      "metadata": {
        "id": "L7Odbp71GPHa"
      }
    },
    {
      "cell_type": "code",
      "source": [
        "def add(x, y):\n",
        "    return x + y\n",
        "\n",
        "def subtract(x, y):\n",
        "    return x - y\n",
        "\n",
        "def multiply(x, y):\n",
        "    return x * y\n",
        "\n",
        "def divide(x, y):\n",
        "    if y == 0:\n",
        "        return \"Error! Division by zero.\"\n",
        "    return x / y\n",
        "\n",
        "def calculator(choice, num1, num2):\n",
        "    if choice == '1':\n",
        "        return f\"{num1} + {num2} = {add(num1, num2)}\"\n",
        "    elif choice == '2':\n",
        "        return f\"{num1} - {num2} = {subtract(num1, num2)}\"\n",
        "    elif choice == '3':\n",
        "        return f\"{num1} * {num2} = {multiply(num1, num2)}\"\n",
        "    elif choice == '4':\n",
        "        return f\"{num1} / {num2} = {divide(num1, num2)}\"\n",
        "    else:\n",
        "        return \"Invalid Input\"\n",
        "\n",
        "# Simulate a calculation\n",
        "print(calculator('1', 5, 3))  # Add\n",
        "print(calculator('2', 5, 3))  # Subtract\n",
        "print(calculator('3', 5, 3))  # Multiply\n",
        "print(calculator('4', 5, 3))  # Divide\n",
        "print(calculator('4', 5, 0))  # Divide by zero"
      ],
      "metadata": {
        "colab": {
          "base_uri": "https://localhost:8080/"
        },
        "id": "Rt9_neXsJ4xd",
        "outputId": "f263fb8a-e5d1-4fb0-b150-dae7e8207d29"
      },
      "execution_count": 7,
      "outputs": [
        {
          "output_type": "stream",
          "name": "stdout",
          "text": [
            "5 + 3 = 8\n",
            "5 - 3 = 2\n",
            "5 * 3 = 15\n",
            "5 / 3 = 1.6666666666666667\n",
            "5 / 0 = Error! Division by zero.\n"
          ]
        }
      ]
    }
  ]
}